{
 "cells": [
  {
   "cell_type": "markdown",
   "metadata": {
    "collapsed": true
   },
   "source": [
    "# Identity Matrix\n",
    "\n",
    "Write a function called identity_matrix that outputs an identity matrix of size n.\n",
    "\n",
    "INPUT\n",
    "* n - size of the Identity matrix\n",
    "\n",
    "OUPUT\n",
    "* identity matrix as a list of lists\n",
    "\n",
    "\n",
    "HINTS\n",
    "* nested for loops will be helpful\n",
    "* the one values are always on the diagonal. To access diagonal values in a list of lists will occur where i = j\n",
    "* whenever i does not equal j, the value in the matrix should be 0"
   ]
  },
  {
   "cell_type": "code",
   "execution_count": 1,
   "metadata": {},
   "outputs": [],
   "source": [
    "def identity_matrix(n):\n",
    "    \n",
    "    identity = []\n",
    "    \n",
    "    # TODO: Write a nested for loop to iterate over the rows and\n",
    "    # columns of the identity matrix. Remember that identity\n",
    "    # matrices are square so they have the same number of rows\n",
    "    # and columns\n",
    "    \n",
    "    # Make sure to assign 1 to the diagonal values and 0 everywhere\n",
    "    # else\n",
    "    row = []\n",
    "    \n",
    "    #initializing\n",
    "    for i in range(n):\n",
    "        for j in range(n):\n",
    "            row.append(0)\n",
    "        identity.append(row)\n",
    "        row = []\n",
    "    \n",
    "    for i in range(n):\n",
    "        identity[i][i] = 1\n",
    "        \n",
    "    return identity"
   ]
  },
  {
   "cell_type": "code",
   "execution_count": 3,
   "metadata": {},
   "outputs": [],
   "source": [
    "# TODO: Run this cell to see if your answers are as expected\n",
    "\n",
    "assert identity_matrix(1) == [[1]]\n",
    "\n",
    "assert identity_matrix(2) == [[1, 0], \n",
    "                             [0, 1]]\n",
    "\n",
    "assert identity_matrix(3) == [[1, 0, 0],\n",
    "                             [0, 1, 0],\n",
    "                             [0, 0, 1]]\n",
    "\n",
    "assert identity_matrix(4) == [[1, 0, 0, 0],\n",
    "                             [0, 1, 0, 0],\n",
    "                             [0, 0, 1, 0],\n",
    "                             [0, 0, 0, 1]]"
   ]
  },
  {
   "cell_type": "markdown",
   "metadata": {},
   "source": [
    "# Multiplication with the Identity Matrix\n",
    "\n",
    "Copy your matrix multiplication function in the code cell below. Try multiplying a matrix with an identity matrix to prove to yourself that the identity matrix is analogous to multiplyin a scalar by one."
   ]
  },
  {
   "cell_type": "code",
   "execution_count": 6,
   "metadata": {},
   "outputs": [],
   "source": [
    "\n",
    "def transpose(matrix):\n",
    "    matrix_transpose = []\n",
    "    row = []\n",
    "    no_of_rows = len(matrix)\n",
    "    no_of_cols = len(matrix[0])\n",
    "    \n",
    "    #initializing matrix_transpose\n",
    "    for j in range(no_of_cols):\n",
    "        for i in range(no_of_rows):\n",
    "            row.append(0)\n",
    "        matrix_transpose.append(row)\n",
    "        row = []\n",
    "            \n",
    "    #Transposing\n",
    "    for i in range(no_of_rows):\n",
    "        for j in range(no_of_cols):\n",
    "            matrix_transpose[j][i] = matrix[i][j]\n",
    "    return matrix_transpose\n",
    "\n",
    "def dot_product(vector_one, vector_two):\n",
    "    result = 0\n",
    "    \n",
    "    for i in range(len(vector_one)):\n",
    "        result += vector_one[i] * vector_two[i]\n",
    "\n",
    "    return result\n",
    "def matrix_multiplication(matrixA, matrixB):\n",
    "    product = []\n",
    "    res = []\n",
    "    \n",
    "\n",
    "    matrixBtranspose = transpose(matrixB)\n",
    "    no_of_rows1 = len(matrixA)\n",
    "    no_of_rows2 = len(matrixBtranspose)\n",
    "\n",
    "    for i in range(no_of_rows1):\n",
    "        for j in range(no_of_rows2):\n",
    "            res.append(dot_product(matrixA[i], matrixBtranspose[j]))\n",
    "            \n",
    "\n",
    "        product.append(res)\n",
    "        res = []\n",
    "\n",
    "\n",
    "    return product"
   ]
  },
  {
   "cell_type": "code",
   "execution_count": 7,
   "metadata": {},
   "outputs": [],
   "source": [
    "# TODO: Run this cell to see if your results are as expected.\n",
    "\n",
    "m = [[5, 9, 2, 4],\n",
    "     [3, 8, 5, 6],\n",
    "     [1, 0, 0, 15]]\n",
    "\n",
    "assert matrix_multiplication(m, identity_matrix(4)) == m\n",
    "assert matrix_multiplication(identity_matrix(3), m) == m"
   ]
  },
  {
   "cell_type": "code",
   "execution_count": null,
   "metadata": {},
   "outputs": [],
   "source": []
  }
 ],
 "metadata": {
  "kernelspec": {
   "display_name": "Python 3",
   "language": "python",
   "name": "python3"
  },
  "language_info": {
   "codemirror_mode": {
    "name": "ipython",
    "version": 3
   },
   "file_extension": ".py",
   "mimetype": "text/x-python",
   "name": "python",
   "nbconvert_exporter": "python",
   "pygments_lexer": "ipython3",
   "version": "3.6.3"
  }
 },
 "nbformat": 4,
 "nbformat_minor": 2
}
