{
 "cells": [
  {
   "cell_type": "markdown",
   "metadata": {},
   "source": [
    "# Transpose of a Matrix\n",
    "\n",
    "In this set of exercises, you will work with the transpose of a matrix.\n",
    "\n",
    "Your first task is to write a function that takes the transpose of a matrix. Think about how to use nested for loops efficiently.\n",
    "\n",
    "The second task will be to write a new matrix multiplication function that takes advantage of your matrix transposition function."
   ]
  },
  {
   "cell_type": "code",
   "execution_count": 7,
   "metadata": {},
   "outputs": [],
   "source": [
    "\n",
    "def transpose(matrix):\n",
    "    matrix_transpose = []\n",
    "    row = []\n",
    "    no_of_rows = len(matrix)\n",
    "    no_of_cols = len(matrix[0])\n",
    "    \n",
    "    #initializing matrix_transpose\n",
    "    for j in range(no_of_cols):\n",
    "        for i in range(no_of_rows):\n",
    "            row.append(0)\n",
    "        matrix_transpose.append(row)\n",
    "        row = []\n",
    "            \n",
    "    #Transposing\n",
    "    for i in range(no_of_rows):\n",
    "        for j in range(no_of_cols):\n",
    "            matrix_transpose[j][i] = matrix[i][j]\n",
    "    return matrix_transpose"
   ]
  },
  {
   "cell_type": "code",
   "execution_count": 8,
   "metadata": {},
   "outputs": [],
   "source": [
    "\n",
    "assert transpose([[5, 4, 1, 7], [2, 1, 3, 5]]) == [[5, 2], [4, 1], [1, 3], [7, 5]]\n",
    "assert transpose([[5]]) == [[5]]\n",
    "assert transpose([[5, 3, 2], [7, 1, 4], [1, 1, 2], [8, 9, 1]]) == [[5, 7, 1, 8], [3, 1, 1, 9], [2, 4, 2, 1]]\n"
   ]
  },
  {
   "cell_type": "markdown",
   "metadata": {},
   "source": [
    "### Matrix Multiplication\n",
    "\n",
    "Now that you have your transpose function working, write a matrix multiplication function that takes advantage of the transpose. \n",
    "\n",
    "As part of the matrix multiplication code, you might want to re-use your dot product function from the matrix multiplication exercises. But you won't need your get_row and get_column functions anymore because the tranpose essentially takes care of turning columns into row vectors.\n",
    "\n",
    "Remember that if matrix A is mxn and matrix B is nxp, then the resulting product will be mxp."
   ]
  },
  {
   "cell_type": "code",
   "execution_count": 17,
   "metadata": {},
   "outputs": [],
   "source": [
    "\n",
    "def dot_product(vector_one, vector_two):\n",
    "    result = 0\n",
    "    \n",
    "    for i in range(len(vector_one)):\n",
    "        result += vector_one[i] * vector_two[i]\n",
    "\n",
    "    return result\n",
    "def matrix_multiplication(matrixA, matrixB):\n",
    "    product = []\n",
    "    res = []\n",
    "    \n",
    "\n",
    "    matrixBtranspose = transpose(matrixB)\n",
    "    no_of_rows1 = len(matrixA)\n",
    "    no_of_rows2 = len(matrixBtranspose)\n",
    "\n",
    "    for i in range(no_of_rows1):\n",
    "        for j in range(no_of_rows2):\n",
    "            res.append(dot_product(matrixA[i], matrixBtranspose[j]))\n",
    "            \n",
    "\n",
    "        product.append(res)\n",
    "        res = []\n",
    "\n",
    "\n",
    "    return product"
   ]
  },
  {
   "cell_type": "code",
   "execution_count": 19,
   "metadata": {},
   "outputs": [],
   "source": [
    "\n",
    "assert matrix_multiplication([[5, 3, 1], \n",
    "                              [6, 2, 7]], \n",
    "                             [[4, 2], \n",
    "                              [8, 1], \n",
    "                              [7, 4]]) == [[51, 17], \n",
    "                                           [89, 42]]\n",
    "\n",
    "assert matrix_multiplication([[5]], [[4]]) == [[20]]\n",
    "\n",
    "assert matrix_multiplication([[2, 8, 1, 2, 9],\n",
    "                             [7, 9, 1, 10, 5],\n",
    "                             [8, 4, 11, 98, 2],\n",
    "                             [5, 5, 4, 4, 1]], \n",
    "                             [[4], \n",
    "                              [2], \n",
    "                              [17], \n",
    "                              [80], \n",
    "                              [2]]) == [[219], [873], [8071], [420]]\n",
    "\n",
    "\n",
    "assert matrix_multiplication([[2, 8, 1, 2, 9],\n",
    "                             [7, 9, 1, 10, 5],\n",
    "                             [8, 4, 11, 98, 2],\n",
    "                             [5, 5, 4, 4, 1]], \n",
    "                             [[4, 1, 2], \n",
    "                              [2, 3, 1], \n",
    "                              [17, 8, 1], \n",
    "                              [1, 3, 0], \n",
    "                              [2, 1, 4]]) == [[61, 49, 49], [83, 77, 44], [329, 404, 39], [104, 65, 23]]"
   ]
  },
  {
   "cell_type": "code",
   "execution_count": null,
   "metadata": {},
   "outputs": [],
   "source": []
  }
 ],
 "metadata": {
  "kernelspec": {
   "display_name": "Python 3",
   "language": "python",
   "name": "python3"
  },
  "language_info": {
   "codemirror_mode": {
    "name": "ipython",
    "version": 3
   },
   "file_extension": ".py",
   "mimetype": "text/x-python",
   "name": "python",
   "nbconvert_exporter": "python",
   "pygments_lexer": "ipython3",
   "version": "3.6.3"
  }
 },
 "nbformat": 4,
 "nbformat_minor": 2
}
